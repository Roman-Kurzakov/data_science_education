{
 "cells": [
  {
   "cell_type": "markdown",
   "metadata": {},
   "source": [
    "Игра \"Угадай число\"\n",
    "\n",
    "    Нужно написать программу, которая угадывает число за минимальное число попыток.\n",
    "\n",
    "Условия соревнования\n",
    "\n",
    "    Компьютер загадывает целое число от 1 до 100, и нам его нужно угадать. Под «угадать», подразумевается «написать программу, которая угадывает число».\n",
    "    Алгоритм учитывает информацию о том, больше ли случайное число или меньше нужного нам.\n",
    "    Необходимо добиться того, чтобы программа угадывала число меньше, чем за 20 попыток.\n"
   ]
  },
  {
   "cell_type": "markdown",
   "metadata": {},
   "source": [
    "Решение задачи:\n",
    "\n",
    "    Используем алгоритм бинарного поиска."
   ]
  },
  {
   "cell_type": "markdown",
   "metadata": {},
   "source": [
    "Импортируем библиотеку NumPy для генерации рандомных чисел и расчета среднего количества попыток."
   ]
  },
  {
   "cell_type": "code",
   "execution_count": 13,
   "metadata": {},
   "outputs": [],
   "source": [
    "import numpy as np"
   ]
  },
  {
   "cell_type": "markdown",
   "metadata": {},
   "source": [
    "Пишем функцию бинарного поиска числа в заданном диапазоне."
   ]
  },
  {
   "cell_type": "code",
   "execution_count": 14,
   "metadata": {},
   "outputs": [],
   "source": [
    "def binary_search(number=1) -> int:\n",
    "    \"\"\"Угадываем число бинарным поиском!\n",
    "\n",
    "    Args:\n",
    "        number (int, optional): Загаданное число. Defaults to 1.\n",
    "\n",
    "    Returns:\n",
    "        int: Число попыток\n",
    "    \"\"\"\n",
    "    count_try = 0\n",
    "    low = 0 # нижняя граница\n",
    "    high = 100 # верхняя граница\n",
    "\n",
    "    while low <= high:\n",
    "        count_try += 1\n",
    "        predict_number = (low + high)/2 # поиск среднего значения в диапазоне\n",
    "        \n",
    "        if number < predict_number:\n",
    "            high = predict_number - 1 # меняем верхнюю границу, если число велико       \n",
    "        if number > predict_number:\n",
    "            low = predict_number + 1 # меняем нижнюю границу, если мало\n",
    "        if number == predict_number:\n",
    "            break  # выход из цикла если угадали\n",
    "        \n",
    "    return count_try"
   ]
  },
  {
   "cell_type": "markdown",
   "metadata": {},
   "source": [
    "Функция для оценки"
   ]
  },
  {
   "cell_type": "markdown",
   "metadata": {},
   "source": [
    "    Эта функция необходима, чтобы определить, за какое число попыток программа угадывает наше число."
   ]
  },
  {
   "cell_type": "code",
   "execution_count": 15,
   "metadata": {},
   "outputs": [],
   "source": [
    "def score_game(binary_search) -> int:\n",
    "    \"\"\"За какое количство попыток в среднем за 1000 подходов угадывает наш алгоритм\n",
    "\n",
    "    Args:\n",
    "        random_predict ([type]): функция угадывания\n",
    "\n",
    "    Returns:\n",
    "        int: среднее количество попыток\n",
    "    \"\"\"\n",
    "    count_ls = []\n",
    "    np.random.seed(1)  # фиксируем сид для воспроизводимости\n",
    "    random_array = np.random.randint(1, 101, size = (1000))  # загадали список чисел\n",
    "\n",
    "    for numb in random_array:\n",
    "        count_ls.append(binary_search(numb))\n",
    "\n",
    "    score = int(np.mean(count_ls))\n",
    "    print(f\"Ваш алгоритм угадывает число в среднем за:{score} попыток\")\n",
    "    return score"
   ]
  },
  {
   "cell_type": "markdown",
   "metadata": {},
   "source": [
    "Мы можем убедиться, что наш аглоритм угадывает число в среднем за 5 попыток, что выполняет условие поставленной задачи."
   ]
  },
  {
   "cell_type": "code",
   "execution_count": null,
   "metadata": {},
   "outputs": [],
   "source": []
  }
 ],
 "metadata": {
  "interpreter": {
   "hash": "571d7e2b472b2ad2fe7fa12de89057082d5c525dba7df0550d26c3e2b085b7b8"
  },
  "kernelspec": {
   "display_name": "Python 3.9.7 64-bit ('base': conda)",
   "language": "python",
   "name": "python3"
  },
  "language_info": {
   "codemirror_mode": {
    "name": "ipython",
    "version": 3
   },
   "file_extension": ".py",
   "mimetype": "text/x-python",
   "name": "python",
   "nbconvert_exporter": "python",
   "pygments_lexer": "ipython3",
   "version": "3.9.7"
  },
  "orig_nbformat": 4
 },
 "nbformat": 4,
 "nbformat_minor": 2
}
